{
 "cells": [
  {
   "cell_type": "code",
   "execution_count": 1,
   "id": "ee0861ec-dd65-4e1b-a7b9-e39126d849d2",
   "metadata": {},
   "outputs": [],
   "source": [
    "import pandas as pd\n",
    "import numpy as np\n",
    "import matplotlib.pyplot as plt\n",
    "import seaborn as sns\n",
    "import warnings\n",
    "\n",
    "from sklearn.model_selection import train_test_split\n",
    "from sklearn.preprocessing import LabelEncoder, StandardScaler\n",
    "from sklearn.ensemble import RandomForestRegressor\n",
    "from sklearn.metrics import mean_absolute_error, mean_squared_error, r2_score\n",
    "\n",
    "warnings.filterwarnings('ignore')\n",
    "sns.set(style='whitegrid')\n"
   ]
  },
  {
   "cell_type": "code",
   "execution_count": 16,
   "id": "9a3a67c9-f6ab-4e09-9b3f-0ff11efe26e8",
   "metadata": {},
   "outputs": [
    {
     "name": "stdout",
     "output_type": "stream",
     "text": [
      "        Date         Datetime month- Year cash_type                 card  \\\n",
      "0 2024-03-01  00:15:50.500000  March-2024      card  ANON-0000-0000-0001   \n",
      "1 2024-03-01  00:19:22.500000  March-2024      card  ANON-0000-0000-0002   \n",
      "2 2024-03-01  00:20:18.100000  March-2024      card  ANON-0000-0000-0002   \n",
      "3 2024-03-01         00:46:33  March-2024      card  ANON-0000-0000-0003   \n",
      "4 2024-03-01  00:48:14.600000  March-2024      card  ANON-0000-0000-0004   \n",
      "\n",
      "   money    coffee_name  \n",
      "0   38.7          Latte  \n",
      "1   38.7  Hot Chocolate  \n",
      "2   38.7  Hot Chocolate  \n",
      "3   28.9      Americano  \n",
      "4   38.7          Latte  \n"
     ]
    }
   ],
   "source": [
    "# Load the dataset\n",
    "df = pd.read_excel('C:/Users/admin/Documents/Coffee//coffeeData_final.xlsx')\n",
    "print(df.head())"
   ]
  },
  {
   "cell_type": "code",
   "execution_count": 20,
   "id": "aa5ee51c-591c-40a1-9cb8-82013d45ab01",
   "metadata": {},
   "outputs": [],
   "source": [
    "# ----------------------------\n",
    "# Step 1: Data Preprocessing\n",
    "# ----------------------------\n",
    "\n",
    "# Basic cleanup\n",
    "df.drop_duplicates(inplace=True)\n",
    "df.dropna(inplace=True)\n",
    "\n",
    "# Convert 'date' or 'datetime' column if exists\n",
    "if 'date' in df.columns:\n",
    "    df['date'] = pd.to_datetime(df['date'])\n",
    "\n",
    "# Feature Engineering\n",
    "if 'date' in df.columns:\n",
    "    df['month'] = df['date'].dt.month\n",
    "    df['day_of_week'] = df['date'].dt.dayofweek\n",
    "    df['hour'] = pd.to_datetime(df['datetime']).dt.hour if 'datetime' in df.columns else 0\n",
    "\n",
    "# Encode categorical variables\n",
    "categorical_cols = df.select_dtypes(include='object').columns\n",
    "le = LabelEncoder()\n",
    "for col in categorical_cols:\n",
    "    df[col] = le.fit_transform(df[col])"
   ]
  },
  {
   "cell_type": "code",
   "execution_count": 60,
   "id": "ed77a430-ac29-47a4-9558-34245626644c",
   "metadata": {},
   "outputs": [
    {
     "name": "stdout",
     "output_type": "stream",
     "text": [
      "\n",
      "Summary Statistics:\n",
      "                                Date     Datetime  month- Year  cash_type  \\\n",
      "count                           1044  1044.000000  1044.000000     1044.0   \n",
      "mean   2024-05-22 10:45:31.034482688   514.932950     2.080460        0.0   \n",
      "min              2024-03-01 00:00:00     0.000000     0.000000        0.0   \n",
      "25%              2024-04-17 18:00:00   258.750000     1.000000        0.0   \n",
      "50%              2024-05-26 00:00:00   515.500000     2.000000        0.0   \n",
      "75%              2024-06-26 00:00:00   773.250000     3.000000        0.0   \n",
      "max              2024-07-31 00:00:00  1027.000000     4.000000        0.0   \n",
      "std                              NaN   296.967914     1.398959        0.0   \n",
      "\n",
      "              card        money  coffee_name  \n",
      "count  1044.000000  1044.000000  1044.000000  \n",
      "mean    163.576628    32.876322     3.101533  \n",
      "min       0.000000    18.120000     0.000000  \n",
      "25%      32.000000    28.900000     1.000000  \n",
      "50%     141.000000    32.820000     2.000000  \n",
      "75%     275.000000    37.720000     6.000000  \n",
      "max     445.000000    38.700000     7.000000  \n",
      "std     135.681034     4.981218     2.580857  \n"
     ]
    },
    {
     "data": {
      "image/png": "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",
      "text/plain": [
       "<Figure size 1000x400 with 1 Axes>"
      ]
     },
     "metadata": {},
     "output_type": "display_data"
    }
   ],
   "source": [
    "# ----------------------------\n",
    "# Step 2: Exploratory Data Analysis\n",
    "# ----------------------------\n",
    "\n",
    "print(\"\\nSummary Statistics:\")\n",
    "print(df.describe())\n",
    "\n",
    "# Sales Trend\n",
    "if 'money' in df.columns and 'date' in df.columns:\n",
    "    daily_sales = df.groupby('date')['money'].sum()\n",
    "    plt.figure(figsize=(12, 4))\n",
    "    daily_sales.plot()\n",
    "    plt.title(\"Daily Sales Trend\")\n",
    "    plt.xlabel(\"Date\")\n",
    "    plt.ylabel(\"Total Sales\")\n",
    "    plt.tight_layout()\n",
    "    plt.show()\n",
    "\n",
    "# Product Popularity\n",
    "if 'coffee_name' in df.columns and 'money' in df.columns:\n",
    "    plt.figure(figsize=(10, 4))\n",
    "    sns.barplot(x='money', y='coffee_name', data=df, estimator=sum)\n",
    "    plt.title(\"Revenue by Coffee Type\")\n",
    "    plt.tight_layout()\n",
    "    plt.show()"
   ]
  },
  {
   "cell_type": "code",
   "execution_count": 34,
   "id": "58106b5a-0289-4de0-9b01-1b5b1ba93c29",
   "metadata": {},
   "outputs": [],
   "source": [
    "# ----------------------------\n",
    "# Step 3: Model Preparation (Safe and Corrected)\n",
    "# ----------------------------\n",
    "\n",
    "# Define the target\n",
    "target = 'money' if 'money' in df.columns else df.columns[-1]\n",
    "\n",
    "# Drop non-numeric columns (if any are left after encoding)\n",
    "df_model = df.select_dtypes(include=[np.number])\n",
    "\n",
    "# Ensure the target column exists in the numeric dataframe\n",
    "if target not in df_model.columns:\n",
    "    raise ValueError(f\"Target column '{target}' is not numeric or was not found after preprocessing.\")\n",
    "\n",
    "# Features and target\n",
    "X = df_model.drop(columns=[target])\n",
    "y = df_model[target]\n",
    "\n",
    "# Scale features\n",
    "scaler = StandardScaler()\n",
    "X_scaled = scaler.fit_transform(X)\n",
    "\n",
    "# Split data\n",
    "X_train, X_test, y_train, y_test = train_test_split(\n",
    "    X_scaled, y, test_size=0.2, random_state=42\n",
    ")\n"
   ]
  },
  {
   "cell_type": "code",
   "execution_count": 38,
   "id": "b5e775e5-67f9-40da-b851-20faee85e83d",
   "metadata": {},
   "outputs": [],
   "source": [
    "# ----------------------------\n",
    "# Step 4: Model Training\n",
    "# ----------------------------\n",
    "\n",
    "model = RandomForestRegressor(n_estimators=100, random_state=42)\n",
    "model.fit(X_train, y_train)\n",
    "y_pred = model.predict(X_test)"
   ]
  },
  {
   "cell_type": "code",
   "execution_count": 40,
   "id": "cfe27e06-044f-4d85-939a-60db3bb4ddc5",
   "metadata": {},
   "outputs": [
    {
     "name": "stdout",
     "output_type": "stream",
     "text": [
      "\n",
      "Model Performance:\n",
      "Mean Absolute Error (MAE): 0.29\n",
      "Root Mean Squared Error (RMSE): 0.89\n",
      "R² Score: 0.97\n"
     ]
    }
   ],
   "source": [
    "# ----------------------------\n",
    "# Step 5: Evaluation\n",
    "# ----------------------------\n",
    "\n",
    "mae = mean_absolute_error(y_test, y_pred)\n",
    "rmse = np.sqrt(mean_squared_error(y_test, y_pred))\n",
    "r2 = r2_score(y_test, y_pred)\n",
    "\n",
    "print(\"\\nModel Performance:\")\n",
    "print(f\"Mean Absolute Error (MAE): {mae:.2f}\")\n",
    "print(f\"Root Mean Squared Error (RMSE): {rmse:.2f}\")\n",
    "print(f\"R² Score: {r2:.2f}\")\n"
   ]
  },
  {
   "cell_type": "code",
   "execution_count": 48,
   "id": "55bbaa0c-0f0b-4408-9012-cf0eb6d0d838",
   "metadata": {},
   "outputs": [
    {
     "data": {
      "image/png": "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",
      "text/plain": [
       "<Figure size 1000x400 with 1 Axes>"
      ]
     },
     "metadata": {},
     "output_type": "display_data"
    }
   ],
   "source": [
    "# ----------------------------\n",
    "# Step 6: Feature Importance\n",
    "# ----------------------------\n",
    "\n",
    "# Get feature names from the numeric dataframe used in model\n",
    "feature_names = X.columns if isinstance(X, pd.DataFrame) else df_model.drop(columns=[target]).columns\n",
    "\n",
    "plt.figure(figsize=(10, 4))\n",
    "importance = pd.Series(model.feature_importances_, index=feature_names)\n",
    "importance.sort_values(ascending=True).plot(kind='barh')\n",
    "plt.title(\"Feature Importance\")\n",
    "plt.xlabel(\"Importance\")\n",
    "plt.ylabel(\"Features\")\n",
    "plt.tight_layout()\n",
    "plt.show()\n"
   ]
  },
  {
   "cell_type": "code",
   "execution_count": 52,
   "id": "68e315f0-1e76-4c34-bd78-d5249839036c",
   "metadata": {},
   "outputs": [
    {
     "name": "stdout",
     "output_type": "stream",
     "text": [
      "\n",
      " Business Insights & Recommendations:\n",
      "- Top-selling products can be bundled or upsold.\n",
      "- Model can be used to forecast daily/weekly revenue and support inventory planning.\n"
     ]
    }
   ],
   "source": [
    "# ----------------------------\n",
    "# Step 7: Business Insights\n",
    "# ----------------------------\n",
    "\n",
    "print(\"\\n Business Insights & Recommendations:\")\n",
    "if 'hour' in df.columns:\n",
    "    print(\"- Peak coffee sales are usually around certain hours. You can stock and staff accordingly.\")\n",
    "if 'day_of_week' in df.columns:\n",
    "    print(\"- Identify top-performing weekdays for promotions.\")\n",
    "if 'coffee_name' in df.columns:\n",
    "    print(\"- Top-selling products can be bundled or upsold.\")\n",
    "print(\"- Model can be used to forecast daily/weekly revenue and support inventory planning.\")"
   ]
  },
  {
   "cell_type": "code",
   "execution_count": null,
   "id": "13c1db02-74da-46d1-ba6e-b66b266bc29d",
   "metadata": {},
   "outputs": [],
   "source": []
  },
  {
   "cell_type": "code",
   "execution_count": null,
   "id": "0a237edd-1a22-4a9a-928a-3f3e883c05ff",
   "metadata": {},
   "outputs": [],
   "source": [
  
